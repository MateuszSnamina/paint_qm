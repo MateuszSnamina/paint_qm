{
 "cells": [
  {
   "cell_type": "code",
   "execution_count": 1,
   "metadata": {},
   "outputs": [],
   "source": [
    "import numpy as np\n",
    "import sympy as sp\n",
    "import scipy.linalg\n",
    "import sympy.physics.secondquant as sq\n",
    "import matplotlib.pyplot as plt\n",
    "import math\n",
    "import itertools"
   ]
  },
  {
   "cell_type": "markdown",
   "metadata": {},
   "source": [
    "# Self interaction: $H_{ee}$"
   ]
  },
  {
   "cell_type": "markdown",
   "metadata": {},
   "source": [
    "## Parameters"
   ]
  },
  {
   "cell_type": "markdown",
   "metadata": {},
   "source": [
    "### Conversions of different atom parameters sets conventions"
   ]
  },
  {
   "cell_type": "markdown",
   "metadata": {},
   "source": [
    "_Conversion formula_ Racah params $A, B, C$ from $\\{F_k\\}$:\n",
    "$$\n",
    "\\begin{pmatrix} A \\\\ B \\\\ C \\end{pmatrix}\n",
    "=\n",
    "\\begin{pmatrix} 1 & 0 & -7 \\cdot 7 \\\\ 0 & 1 & -5 \\\\ 0 & 0 & +5 \\cdot 7 \\end{pmatrix}\n",
    "\\begin{pmatrix} F_0 \\\\ F_2 \\\\ F_4 \\end{pmatrix}\n",
    "$$\n",
    "_Conversion formula_ $\\{F_k\\}$ params from $\\{F^k\\}$:\n",
    "$$\n",
    "\\begin{pmatrix} F_0 \\\\ F_2 \\\\ F_4 \\end{pmatrix}\n",
    "=\n",
    "\\begin{pmatrix} F^0 \\\\ (7)^{-2} F^2 \\\\ (3\\cdot 7)^{-2} F^4 \\end{pmatrix}\n",
    "$$\n",
    "\n",
    "_Definition_ of $\\{F^k\\}$ params:\n",
    "$$\n",
    "F^k\n",
    "=\n",
    "\\int_0^\\infty\n",
    "\\int_0^\\infty\n",
    "~\\frac{\\big(\\min(r_1, r_2)\\big)^k}{\\big(\\max(r_1, r_2)\\big)^{k+1}}\n",
    "~R^2(r_1)\n",
    "R^2(r_1)\n",
    "~r_1^2\n",
    "d r_1\n",
    "~r_2^2\n",
    "d r_1\n",
    "$$\n",
    "(here we assume all the relevant orbitals share the same radial function)"
   ]
  },
  {
   "cell_type": "code",
   "execution_count": 2,
   "metadata": {},
   "outputs": [],
   "source": [
    "Fsub024_to_ABC_kernel = np.array([\n",
    "    [1.0, 0.0, -7.0 * 7.0 ],\n",
    "    [0.0, 1.0,       -5.0 ],\n",
    "    [0.0, 0.0, +5.0 * 7.0 ],\n",
    "])\n",
    "\n",
    "def convert_Fsub024_to_ABC(Fsub0, Fsub2, Fsub4):\n",
    "    Fsub024 = np.array([Fsub0, Fsub2, Fsub4])\n",
    "    ABC = Fsub024_to_ABC_kernel @ Fsub024\n",
    "    return [ABC[0], ABC[1], ABC[2]]\n",
    "\n",
    "def convert_ABC_to_Fsub024(A, B, C):\n",
    "    ABC = np.array([A, B, C])\n",
    "    Fsub024 = np.linalg.inv(Fsub024_to_ABC_kernel) @ ABC\n",
    "    return [Fsub024[0], Fsub024[1], Fsub024[2]]\n",
    "\n",
    "def convert_Fsup024_to_Fsub024(Fsup0, Fsup2, Fsup4):\n",
    "    return [Fsup0, 1 / 7**2 * Fsup2, 1 / (3 * 7)**2 * Fsup4]\n",
    "\n",
    "def convert_Fsub024_to_Fsup024(Fsub0, Fsub2, Fsub4):\n",
    "    return [Fsub0, 7**2 * Fsub2, (3 * 7)**2 * Fsub4]"
   ]
  },
  {
   "cell_type": "markdown",
   "metadata": {},
   "source": [
    "## Parameters values - example"
   ]
  },
  {
   "cell_type": "markdown",
   "metadata": {},
   "source": [
    "For Ni(H $_2$ O)$_6^{2+}$:\n",
    "\n",
    "- $A, B, C = \\text{NA}, 930, $ # [cm $x^{-1}$]\n",
    "- $Dq = 850$ [cm $x^{-1}$]\n",
    "\n",
    "For Ni(NH $_3$ )$_6^{2+}$:\n",
    "- $A, B, C = \\text{NA}, 881, $ [cm $x^{-1}$]\n",
    "- $Dq = 1075$ [cm $x^{-1}$]"
   ]
  },
  {
   "cell_type": "markdown",
   "metadata": {},
   "source": [
    "## Gaunt coefficients"
   ]
  },
  {
   "cell_type": "markdown",
   "metadata": {},
   "source": [
    "$$\n",
    "c^{(k)} (l, m; l', m') =\n",
    "\\sqrt{\\frac{4\\pi}{2k + 1}}\n",
    "\\int_{0}^{2\\pi} d\\varphi\n",
    "\\int_{-1}^{1} dcos(\\theta)\n",
    "~Y_{l, m}^*(\\theta, \\varphi)\n",
    "~Y_{k, m−m'} (\\theta, \\varphi)\n",
    "~Y_{l', m'}(\\theta, \\varphi)\n",
    "$$"
   ]
  },
  {
   "cell_type": "code",
   "execution_count": 3,
   "metadata": {},
   "outputs": [],
   "source": [
    "# Hardcoded coefficients values for l = l' = 2:\n",
    "\n",
    "s5 = math.sqrt(5)\n",
    "s6 = math.sqrt(6)\n",
    "s15 = math.sqrt(15)\n",
    "s30 = math.sqrt(30)\n",
    "s35 = math.sqrt(35)\n",
    "s40 = math.sqrt(40)\n",
    "s70 = math.sqrt(70)\n",
    "\n",
    "# c⁽⁰⁾(2, m; 2, m'):\n",
    "c0 = np.array([\n",
    "    [1.0, 0.0, 0.0, 0.0, 0.0],\n",
    "    [0.0, 1.0, 0.0, 0.0, 0.0],\n",
    "    [0.0, 0.0, 1.0, 0.0, 0.0],\n",
    "    [0.0, 0.0, 0.0, 1.0, 0.0],\n",
    "    [0.0, 0.0, 0.0, 0.0, 1.0]\n",
    "])\n",
    "\n",
    "# c⁽²⁾(2, m; 2, m'):\n",
    "c2 = (\n",
    "    1 / 7 *\n",
    "    np.array([\n",
    "        [  -2, +s6,  -2,   0,   0],\n",
    "        [ -s6,  +1,  +1, -s6,   0],\n",
    "        [  -2,  -1,  +2,  -1,  -2],\n",
    "        [   0, -s6,  +1,  +1, -s6],\n",
    "        [   0,   0,  -2, +s6,  -2]\n",
    "    ])\n",
    ")\n",
    "\n",
    "# c⁽⁴⁾(2, m; 2, m'):\n",
    "c4 = (\n",
    "    1 / 3 / 7 *\n",
    "    np.array([\n",
    "        [+1.0,  -s5, +s15, -s35, +s70],\n",
    "        [ +s5, -4.0, +s30, -s40, +s35],\n",
    "        [+s15, -s30, +6.0, -s30, +s15],\n",
    "        [+s35, -s40, +s30, -4.0,  +s5],\n",
    "        [+s70, -s35, +s15,  -s5, +1.0]\n",
    "    ])\n",
    ")\n",
    "\n",
    "# U2_over_F2 = 7**2 * np.outer(np.diag(c2), np.diag(c2))\n",
    "# J2_over_F2 = 7**2 * c2 * c2 \n",
    "\n",
    "# U4_over_F4 = (3 * 7)**2 * np.outer(np.diag(c4), np.diag(c4))\n",
    "# J4_over_F4 = (3 * 7)**2 * c4 * c4"
   ]
  },
  {
   "cell_type": "markdown",
   "metadata": {},
   "source": [
    "## Hamiltonian ($3d^2$, $3d^8$)"
   ]
  },
  {
   "cell_type": "markdown",
   "metadata": {},
   "source": [
    "For $d$ (l=2) shell with $n=3$ subscript suppressed:\n",
    "$$\n",
    "H_{ee}\n",
    "=\n",
    "\\frac{1}{2}\n",
    "\\sum_{m=2}^{2}\n",
    "\\sum_{\\sigma}\n",
    "\\sum_{m'=2}^{2}\n",
    "\\sum_{\\sigma'}\n",
    "\\sum_{k=0}^{2\\cdot 2}\n",
    "F^k\n",
    "\\sum_{\\Delta m = -k}^k\n",
    "(-1)^{\\Delta m}\n",
    "~\n",
    "c^{(k)}\\big(2,m + \\Delta m; 2, m \\big)\n",
    "c^{(k)}\\big(2,m' - \\Delta m; 2, m' \\big)\n",
    "~\n",
    "c_{m + \\Delta m, \\sigma}^\\dagger\n",
    "c_{m' - \\Delta m, \\sigma'}^\\dagger\n",
    "c_{m', \\sigma'}\n",
    "c_{m, \\sigma}\n",
    "$$"
   ]
  },
  {
   "cell_type": "code",
   "execution_count": 4,
   "metadata": {},
   "outputs": [],
   "source": [
    "lz_value_to_lz_idx_map = {-2: 0, -1: 1, 0: 2, +1: 3, +2: 4}\n",
    "sz_value_to_sz_idx_map = {-0.5: 0, +0.5: 1}\n",
    "to_spinorbial_index = lambda lz_value, sz_value: 1 + 2 * lz_value_to_lz_idx_map[lz_value] + sz_value_to_sz_idx_map[sz_value]\n",
    "base_d2 = list(itertools.combinations(range(1, 11), r=2))\n",
    "# ^^^ We must start with index 1, not with 0, to make `sympy` work well."
   ]
  },
  {
   "cell_type": "code",
   "execution_count": 5,
   "metadata": {},
   "outputs": [],
   "source": [
    "def build_H_ee(B, C_over_B=175/44):\n",
    "    # Note: C_over_B = 175/44 ≃ 3.977 ensures Fsup4/Fsup2 = 15/23\n",
    "    Fsub0, Fsub2, Fsub4 = convert_ABC_to_Fsub024(0, B, C_over_B * B)\n",
    "    Fsup0, Fsup2, Fsup4 = convert_Fsub024_to_Fsup024(Fsub0, Fsub2, Fsub4)\n",
    "    Fsup024 = {0: Fsup0, 2: Fsup2, 4: Fsup4}\n",
    "    c024 = {0: c0, 2: c2, 4: c4}\n",
    "    sym_H_ee = 0\n",
    "    for lz_value in [+2, +1, 0, -1, -2]:\n",
    "        for sz_value in [+0.5, -0.5]:\n",
    "            for lz_value_prim in [+2, +1, 0, -1, -2]:\n",
    "                for sz_value_prim in [+0.5, -0.5]:\n",
    "                    contribution_ket = 0\n",
    "                    for k in [2, 4]:\n",
    "                        for lz_value_delta in range(-k, k + 1):\n",
    "                            if not (-2 <= lz_value + lz_value_delta <= 2):\n",
    "                                continue\n",
    "                            if not (-2 <= lz_value_prim - lz_value_delta <= 2):\n",
    "                                continue\n",
    "                            contribution = 0.5 * Fsup024[k]\n",
    "                            contribution *= (+1 if lz_value_delta % 2 == 0 else -1)\n",
    "                            contribution *= c024[k][lz_value_to_lz_idx_map[lz_value + lz_value_delta], lz_value_to_lz_idx_map[lz_value]]\n",
    "                            contribution *= c024[k][lz_value_to_lz_idx_map[lz_value_prim - lz_value_delta], lz_value_to_lz_idx_map[lz_value_prim]]\n",
    "                            bra_1 = to_spinorbial_index(lz_value + lz_value_delta, sz_value)\n",
    "                            bra_2 = to_spinorbial_index(lz_value_prim - lz_value_delta, sz_value_prim)\n",
    "                            contribution_ket += contribution * sq.Fd(bra_1) * sq.Fd(bra_2)\n",
    "                    ket_1 = to_spinorbial_index(lz_value, sz_value)\n",
    "                    ket_2 = to_spinorbial_index(lz_value_prim, sz_value_prim)\n",
    "                    sym_H_ee += contribution_ket * sq.F(ket_2) * sq.F(ket_1)\n",
    "\n",
    "    num_H_ee = np.zeros((len(base_d2), len(base_d2)))\n",
    "    for idx_ket, d2_ket in enumerate(base_d2):\n",
    "        ket_state = sq.FKet([d2_ket[0], d2_ket[1]])\n",
    "        temp = sq.apply_operators(sym_H_ee * ket_state)\n",
    "        for idx_bra, d2_bra in enumerate(base_d2):\n",
    "            bra_state = sq.FBra([d2_bra[0], d2_bra[1]])\n",
    "            num_H_ee[idx_bra, idx_ket] = sq.apply_operators(bra_state * temp)\n",
    "    return num_H_ee"
   ]
  },
  {
   "cell_type": "code",
   "execution_count": 6,
   "metadata": {},
   "outputs": [],
   "source": [
    "# Hamiltonian for a unit value of ee selfinteraction (i.e. for B=1 and C=175/44):\n",
    "unit_H_ee = build_H_ee(B=1.0)"
   ]
  },
  {
   "cell_type": "markdown",
   "metadata": {},
   "source": [
    "# Crystal field"
   ]
  },
  {
   "cell_type": "markdown",
   "metadata": {},
   "source": [
    "CF in $O_h$:\n",
    "$$\n",
    "H_{cf} =\n",
    "\\sum_{\\sigma}\n",
    "\\Bigg[\n",
    "(6Dq)\n",
    "\\bigg[\n",
    "~\n",
    "c_{0, \\sigma}^\\dagger\n",
    "c_{0, \\sigma}\n",
    "+\n",
    "~\n",
    "\\frac{1}{2}\n",
    "(c_{+2, \\sigma}^\\dagger + c_{-2, \\sigma}^\\dagger)\n",
    "(c_{+2, \\sigma} + c_{-2, \\sigma})\n",
    "\\bigg]\n",
    "-\n",
    "(4Dq)\n",
    "\\bigg[\n",
    "c_{-1, \\sigma}^\\dagger\n",
    "c_{-1, \\sigma}\n",
    "+\n",
    "~\n",
    "c_{+1, \\sigma}^\\dagger\n",
    "c_{+1, \\sigma}\n",
    "+\n",
    "~\n",
    "\\frac{1}{2}\n",
    "(c_{+2, \\sigma}^\\dagger - c_{-2, \\sigma}^\\dagger)\n",
    "(c_{+2, \\sigma} - c_{-2, \\sigma})\n",
    "\\bigg]\n",
    "\\Bigg]\n",
    "$$"
   ]
  },
  {
   "cell_type": "markdown",
   "metadata": {},
   "source": [
    "## Hamiltonian ($d^2$, $d^8$)"
   ]
  },
  {
   "cell_type": "code",
   "execution_count": null,
   "metadata": {},
   "outputs": [],
   "source": [
    "cf_1e_potential = np.array([\n",
    "    [+1,  0,  0,  0, +5],\n",
    "    [ 0, -4,  0,  0,  0],\n",
    "    [ 0,  0, +6,  0,  0],\n",
    "    [ 0,  0,  0, -4,  0],\n",
    "    [+5,  0,  0,  0, +1],\n",
    "])"
   ]
  },
  {
   "cell_type": "code",
   "execution_count": null,
   "metadata": {},
   "outputs": [],
   "source": [
    "def build_H_cf(Dq):\n",
    "    sym_H_cf = 0\n",
    "    for sz_value in [+0.5, -0.5]:\n",
    "        for lz_value in [+2, +1, 0, -1, -2]:\n",
    "            for lz_value_prim in [+2, +1, 0, -1, -2]:\n",
    "                ket_1 = to_spinorbial_index(lz_value, sz_value)\n",
    "                bra_1 = to_spinorbial_index(lz_value_prim, sz_value)\n",
    "                coef = Dq * cf_1e_potential[lz_value_to_lz_idx_map[lz_value_prim], lz_value_to_lz_idx_map[lz_value]]\n",
    "                if coef == 0:\n",
    "                    continue\n",
    "                sym_H_cf += coef * sq.Fd(bra_1) * sq.F(ket_1)\n",
    "\n",
    "    num_H_cf = np.zeros((len(base_d2), len(base_d2)))\n",
    "    for idx_ket, d2_ket in enumerate(base_d2):\n",
    "        ket_state = sq.FKet([d2_ket[0], d2_ket[1]])\n",
    "        temp = sq.apply_operators(sym_H_cf * ket_state)\n",
    "        for idx_bra, d2_bra in enumerate(base_d2):\n",
    "            bra_state = sq.FBra([d2_bra[0], d2_bra[1]])\n",
    "            num_H_cf[idx_bra, idx_ket] = sq.apply_operators(bra_state * temp)\n",
    "\n",
    "    return num_H_cf"
   ]
  },
  {
   "cell_type": "code",
   "execution_count": null,
   "metadata": {},
   "outputs": [],
   "source": [
    "# Hamiltonian for a unit value of CF splitting (i.e. for Dq=1)\n",
    "unit_H_cf = build_H_cf(Dq=1.0)"
   ]
  },
  {
   "cell_type": "markdown",
   "metadata": {},
   "source": [
    "# Atomic terms"
   ]
  },
  {
   "cell_type": "code",
   "execution_count": null,
   "metadata": {},
   "outputs": [
    {
     "data": {
      "text/plain": [
       "Text(0, 0.5, 'E')"
      ]
     },
     "execution_count": 13,
     "metadata": {},
     "output_type": "execute_result"
    },
    {
     "data": {
      "image/png": "[encoded data removed]",
      "text/plain": [
       "<Figure size 640x480 with 1 Axes>"
      ]
     },
     "metadata": {},
     "output_type": "display_data"
    }
   ],
   "source": [
    "B = 1.0\n",
    "eigval = scipy.linalg.eigh(B * unit_H_ee, eigvals_only=True)\n",
    "\n",
    "fig, ax = plt.subplots()\n",
    "ax.scatter(range(len(eigval)), eigval - eigval[0])\n",
    "ax.grid()\n",
    "ax.set_xlim(0, len(eigval))\n",
    "ax.set_xlabel(\"eigenstate\")\n",
    "ax.set_ylabel(\"E\")"
   ]
  },
  {
   "cell_type": "markdown",
   "metadata": {},
   "source": [
    "# Tanabe-Sugano diagrams by numeric diagonalization"
   ]
  },
  {
   "cell_type": "code",
   "execution_count": null,
   "metadata": {},
   "outputs": [
    {
     "data": {
      "image/png": "[encoded data removed]",
      "text/plain": [
       "<Figure size 500x800 with 1 Axes>"
      ]
     },
     "metadata": {},
     "output_type": "display_data"
    }
   ],
   "source": [
    "many_Dq_over_B = []\n",
    "many_eigval = []\n",
    "for Dq_over_B in np.linspace(0.0, 4.0, 121):\n",
    "    eigval = scipy.linalg.eigh(unit_H_ee + Dq_over_B * unit_H_cf, eigvals_only=True)\n",
    "    many_Dq_over_B.append(Dq_over_B)\n",
    "    many_eigval.append(eigval - eigval[0])\n",
    "\n",
    "fig, ax = plt.subplots(figsize=(5, 8))\n",
    "for Dq_over_B, eigval in zip(many_Dq_over_B, many_eigval):\n",
    "    ax.scatter([Dq_over_B] * len(eigval), eigval, color='b', s=2)\n",
    "ax.grid()\n",
    "ax.set_xlim(0, many_Dq_over_B[-1])\n",
    "ax.set_ylim(0, 80)\n",
    "ax.set_xlabel(\"$Dq / B$\")\n",
    "ax.set_ylabel(\"$E / B$\")\n",
    "plt.show()"
   ]
  },
  {
   "cell_type": "markdown",
   "metadata": {},
   "source": [
    "For comparison, plot from wiki:\n",
    "\n",
    "<img src=\"wikipedia_tanabe_sugano_diagram_d2.svg.png\" alt=\"drawing\" width=\"400\"/>\n",
    "\n",
    "Ref: https://en.wikipedia.org/wiki/Tanabe%E2%80%93Sugano_diagram"
   ]
  },
  {
   "cell_type": "code",
   "execution_count": null,
   "metadata": {},
   "outputs": [
    {
     "data": {
      "image/png": "[encoded data removed]",
      "text/plain": [
       "<Figure size 500x800 with 1 Axes>"
      ]
     },
     "metadata": {},
     "output_type": "display_data"
    }
   ],
   "source": [
    "many_Dq_over_B = []\n",
    "many_eigval = []\n",
    "for Dq_over_B in np.linspace(0.0, 4.0, 121):\n",
    "    eigval = scipy.linalg.eigh(unit_H_ee - Dq_over_B * unit_H_cf, eigvals_only=True)\n",
    "    many_Dq_over_B.append(Dq_over_B)\n",
    "    many_eigval.append(eigval - eigval[0])\n",
    "\n",
    "fig, ax = plt.subplots(figsize=(5, 8))\n",
    "for Dq_over_B, eigval in zip(many_Dq_over_B, many_eigval):\n",
    "    ax.scatter([Dq_over_B] * len(eigval), eigval, color='b', s=2)\n",
    "ax.grid()\n",
    "ax.set_xlim(0, many_Dq_over_B[-1])\n",
    "ax.set_ylim(0, 80)\n",
    "ax.set_xlabel(\"$Dq / B$\")\n",
    "ax.set_ylabel(\"$E / B$\")\n",
    "plt.show()"
   ]
  },
  {
   "cell_type": "markdown",
   "metadata": {},
   "source": [
    "For comparison, plot from wiki:\n",
    "\n",
    "<img src=\"wikipedia_tanabe_sugano_diagram_d8.svg.png\" alt=\"drawing\" width=\"400\"/>\n",
    "\n",
    "Ref: https://en.wikipedia.org/wiki/Tanabe%E2%80%93Sugano_diagram"
   ]
  },
  {
   "cell_type": "code",
   "execution_count": null,
   "metadata": {},
   "outputs": [],
   "source": []
  }
 ],
 "metadata": {
  "kernelspec": {
   "display_name": "math",
   "language": "python",
   "name": "python3"
  },
  "language_info": {
   "codemirror_mode": {
    "name": "ipython",
    "version": 3
   },
   "file_extension": ".py",
   "mimetype": "text/x-python",
   "name": "python",
   "nbconvert_exporter": "python",
   "pygments_lexer": "ipython3",
   "version": "3.11.4"
  }
 },
 "nbformat": 4,
 "nbformat_minor": 2
}
